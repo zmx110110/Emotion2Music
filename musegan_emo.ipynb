{
  "cells": [
    {
      "cell_type": "markdown",
      "metadata": {
        "id": "view-in-github",
        "colab_type": "text"
      },
      "source": [
        "<a href=\"https://colab.research.google.com/github/zmx110110/Emotion2Music/blob/main/musegan_emo.ipynb\" target=\"_parent\"><img src=\"https://colab.research.google.com/assets/colab-badge.svg\" alt=\"Open In Colab\"/></a>"
      ]
    },
    {
      "cell_type": "code",
      "source": [
        "from google.colab import drive\n",
        "drive.mount('/content/drive')"
      ],
      "metadata": {
        "id": "L0emJv8NFGQ2",
        "outputId": "fa650669-b802-4de6-bffb-3d373361c4fb",
        "colab": {
          "base_uri": "https://localhost:8080/"
        }
      },
      "execution_count": 1,
      "outputs": [
        {
          "output_type": "stream",
          "name": "stdout",
          "text": [
            "Mounted at /content/drive\n"
          ]
        }
      ]
    },
    {
      "cell_type": "code",
      "source": [
        "%cd /content/drive/MyDrive/Musegan\n",
        "!ls\n",
        "# !unzip -n musegan-dev.zip\n",
        "# !unzip -n JSB-Chorales-dataset-master.zip\n",
        "%cd musegan-dev\n",
        "!ls"
      ],
      "metadata": {
        "id": "jm5Ua5HmGDo6",
        "outputId": "0ae47f1d-9441-4633-fb3b-b493b7650e29",
        "colab": {
          "base_uri": "https://localhost:8080/"
        }
      },
      "execution_count": 2,
      "outputs": [
        {
          "output_type": "stream",
          "name": "stdout",
          "text": [
            "/content/drive/MyDrive/Musegan\n",
            "JSB-Chorales-dataset-master  musegan-dev  musegan-main\n",
            "/content/drive/MyDrive/Musegan/musegan-dev\n",
            "criterion.py  gan\t\t     LICENSE\t  requirements.txt\n",
            "data\t      images\t\t     musegan.py   results\n",
            "demo\t      Jsb16thSeparated.npz   __pycache__  trainer.py\n",
            "docs\t      jsb-chorales-16th.pkl  README.md\t  train.py\n"
          ]
        }
      ]
    },
    {
      "cell_type": "code",
      "source": [
        "# !wget https://github.com/czhuang/JSB-Chorales-dataset/blob/master/Jsb16thSeparated.npz\n",
        "# !wget https://github.com/czhuang/JSB-Chorales-dataset/blob/master/jsb-chorales-16th.pkl"
      ],
      "metadata": {
        "id": "pNBMnmjEGAfD"
      },
      "execution_count": 3,
      "outputs": []
    },
    {
      "cell_type": "code",
      "source": [
        "!pip install progress"
      ],
      "metadata": {
        "id": "q7RGQgsQLG36",
        "outputId": "7b521861-650f-4a7e-ab53-40608a27ef7a",
        "colab": {
          "base_uri": "https://localhost:8080/"
        }
      },
      "execution_count": 4,
      "outputs": [
        {
          "output_type": "stream",
          "name": "stdout",
          "text": [
            "Looking in indexes: https://pypi.org/simple, https://us-python.pkg.dev/colab-wheels/public/simple/\n",
            "Collecting progress\n",
            "  Downloading progress-1.6.tar.gz (7.8 kB)\n",
            "  Preparing metadata (setup.py) ... \u001b[?25l\u001b[?25hdone\n",
            "Building wheels for collected packages: progress\n",
            "  Building wheel for progress (setup.py) ... \u001b[?25l\u001b[?25hdone\n",
            "  Created wheel for progress: filename=progress-1.6-py3-none-any.whl size=9611 sha256=6e19f900b7f61c8cb3e27a241f221800b551abb285b6b47143962454fca7f5cb\n",
            "  Stored in directory: /root/.cache/pip/wheels/a2/68/5f/c339b20a41659d856c93ccdce6a33095493eb82c3964aac5a1\n",
            "Successfully built progress\n",
            "Installing collected packages: progress\n",
            "Successfully installed progress-1.6\n"
          ]
        }
      ]
    },
    {
      "cell_type": "code",
      "source": [
        "# !python train.py  --path /content/drive/MyDrive/Musegan/JSB-Chorales-dataset-master/Jsb16thSeparated.npz"
      ],
      "metadata": {
        "id": "O0YGEBQXKwPW"
      },
      "execution_count": 5,
      "outputs": []
    },
    {
      "cell_type": "code",
      "source": [
        "%cd /content/drive/MyDrive/Musegan/musegan-dev/demo\n",
        "import sys\n",
        "sys.path.append(\"/content/drive/MyDrive/Musegan/musegan-dev/\")"
      ],
      "metadata": {
        "colab": {
          "base_uri": "https://localhost:8080/"
        },
        "id": "tdGRGDRjfb8j",
        "outputId": "32ef3b10-0a3a-40fc-9b44-addccb9825b1"
      },
      "execution_count": 6,
      "outputs": [
        {
          "output_type": "stream",
          "name": "stdout",
          "text": [
            "/content/drive/MyDrive/Musegan/musegan-dev/demo\n"
          ]
        }
      ]
    },
    {
      "cell_type": "code",
      "source": [
        "\n",
        "import os\n",
        "import numpy as np\n",
        "from matplotlib import pyplot as plt\n",
        "import torch\n",
        "from torch import nn\n",
        "\n",
        "device = torch.device('cuda:0' if torch.cuda.is_available() else 'cpu')\n",
        "print(device)"
      ],
      "metadata": {
        "id": "sqyp48zWLCbG",
        "colab": {
          "base_uri": "https://localhost:8080/"
        },
        "outputId": "b683d878-aaf0-4afc-83c0-cab3e189ecc6"
      },
      "execution_count": 7,
      "outputs": [
        {
          "output_type": "stream",
          "name": "stdout",
          "text": [
            "cuda:0\n"
          ]
        }
      ]
    },
    {
      "cell_type": "code",
      "source": [
        "from gan import TemporalNetwork, BarGenerator, MuseCritic, MuseGenerator\n",
        "tempnet = TemporalNetwork()\n",
        "x = torch.rand(10, 32)\n",
        "tempnet(x).shape\n",
        "print('Number of parameters:', sum(p.numel() for p in tempnet.parameters()))"
      ],
      "metadata": {
        "colab": {
          "base_uri": "https://localhost:8080/"
        },
        "id": "sKFPkeEef0n1",
        "outputId": "106aa161-7198-4c30-c26f-b499badda50b"
      },
      "execution_count": 8,
      "outputs": [
        {
          "output_type": "stream",
          "name": "stdout",
          "text": [
            "Number of parameters: 101472\n"
          ]
        }
      ]
    },
    {
      "cell_type": "code",
      "source": [
        "bargenerator = BarGenerator()\n",
        "a = torch.rand(10, 128)\n",
        "bargenerator(a).shape\n",
        "print('Number of parameters:', sum(p.numel() for p in bargenerator.parameters()))"
      ],
      "metadata": {
        "colab": {
          "base_uri": "https://localhost:8080/"
        },
        "id": "LaaWC4Pxf2xU",
        "outputId": "8ba3dec1-06de-40df-c8c6-370f824e8fbb"
      },
      "execution_count": 9,
      "outputs": [
        {
          "output_type": "stream",
          "name": "stdout",
          "text": [
            "Number of parameters: 1517313\n"
          ]
        }
      ]
    },
    {
      "cell_type": "code",
      "source": [
        "generator = MuseGenerator()\n",
        "\n",
        "cords = torch.rand(10, 32)\n",
        "style = torch.rand(10, 32)\n",
        "melody = torch.rand(10, 4, 32)\n",
        "groove = torch.rand(10, 4, 32)\n",
        "\n",
        "generator(cords, style, melody, groove).shape\n",
        "print('Number of parameters:', sum(p.numel() for p in generator.parameters()))"
      ],
      "metadata": {
        "colab": {
          "base_uri": "https://localhost:8080/"
        },
        "id": "9xmYqMR8gUSG",
        "outputId": "4c7477ed-131c-44da-c585-d898b97fdc71"
      },
      "execution_count": 10,
      "outputs": [
        {
          "output_type": "stream",
          "name": "stdout",
          "text": [
            "Number of parameters: 6576612\n"
          ]
        }
      ]
    },
    {
      "cell_type": "code",
      "source": [
        "critic = MuseCritic()\n",
        "a = torch.rand(10, 4, 2, 16, 84)\n",
        "critic(a).shape\n",
        "print('Number of parameters:', sum(p.numel() for p in critic.parameters()))"
      ],
      "metadata": {
        "colab": {
          "base_uri": "https://localhost:8080/"
        },
        "id": "rhJ0WhTyge3l",
        "outputId": "8c1bca83-0fd2-4e97-c92e-1f5323413ef5"
      },
      "execution_count": 11,
      "outputs": [
        {
          "output_type": "stream",
          "name": "stdout",
          "text": [
            "Number of parameters: 1446401\n"
          ]
        }
      ]
    },
    {
      "cell_type": "code",
      "source": [
        "from torch.utils.data import DataLoader\n",
        "from data.utils import MidiDataset\n",
        "\n",
        "dataset = MidiDataset(path='/content/drive/MyDrive/Musegan/JSB-Chorales-dataset-master/Jsb16thSeparated.npz')\n",
        "dataloader = DataLoader(dataset, batch_size=64, shuffle=True, drop_last=True)"
      ],
      "metadata": {
        "id": "meXswyIYgfgZ"
      },
      "execution_count": 12,
      "outputs": []
    },
    {
      "cell_type": "code",
      "source": [
        "generator = MuseGenerator(z_dimension=32, hid_channels=1024, hid_features=1024, out_channels=1).to(device)\n",
        "g_optimizer = torch.optim.Adam(generator.parameters(), lr=0.001, betas=(0.5, 0.9))"
      ],
      "metadata": {
        "id": "YF0t0nBUglaV"
      },
      "execution_count": 13,
      "outputs": []
    },
    {
      "cell_type": "code",
      "source": [
        "critic = MuseCritic(hid_channels=128,\n",
        "                    hid_features=1024,\n",
        "                    out_features=1).to(device)\n",
        "c_optimizer = torch.optim.Adam(critic.parameters(), lr=0.001, betas=(0.5, 0.9))"
      ],
      "metadata": {
        "id": "UCAJbek6gnUX"
      },
      "execution_count": 14,
      "outputs": []
    },
    {
      "cell_type": "code",
      "source": [
        "from gan import initialize_weights\n",
        "\n",
        "generator = generator.apply(initialize_weights)\n",
        "critic = critic.apply(initialize_weights)\n"
      ],
      "metadata": {
        "id": "AuGE4h1AgpB2"
      },
      "execution_count": 15,
      "outputs": []
    },
    {
      "cell_type": "code",
      "source": [
        "from trainer import Trainer"
      ],
      "metadata": {
        "id": "182cMRILgqhb"
      },
      "execution_count": 16,
      "outputs": []
    },
    {
      "cell_type": "code",
      "source": [
        "trainer = Trainer(generator, critic, g_optimizer, c_optimizer)"
      ],
      "metadata": {
        "id": "YkKumYb1gsmm"
      },
      "execution_count": 17,
      "outputs": []
    },
    {
      "cell_type": "code",
      "source": [
        "trainer.train(dataloader, epochs=1000)"
      ],
      "metadata": {
        "colab": {
          "base_uri": "https://localhost:8080/",
          "height": 930,
          "referenced_widgets": [
            "4b3ea539047746c4896f836d55b8639f",
            "fb2094b9fcf74d7187f6e6f7df360fe4",
            "cc94f3387ca440fdb31fc9f71f83b085",
            "152fe794743a47e79321b788e81b4ff2",
            "911e1904819c4b6ebf4216a1f827c97f",
            "818402ed3af548ac885d3fb153e44bf2",
            "a498e6454b24469b8a6a48a6c8859051",
            "cca445ba02e747a4895b077aab5d32b5",
            "917b52ac47f4442786612de9d7a5f8b5",
            "9641a071ca134534942e7a0792ccba8f",
            "9b8a35d4a88d400daced13dd3abc6ef1"
          ]
        },
        "id": "BbNEQ6urhQaX",
        "outputId": "b6bc42c0-e8c0-4ef3-d84d-108e1d741d8f"
      },
      "execution_count": null,
      "outputs": [
        {
          "output_type": "display_data",
          "data": {
            "text/plain": [
              "  0%|          | 0/1000 [00:00<?, ?it/s]"
            ],
            "application/vnd.jupyter.widget-view+json": {
              "version_major": 2,
              "version_minor": 0,
              "model_id": "4b3ea539047746c4896f836d55b8639f"
            }
          },
          "metadata": {}
        },
        {
          "output_type": "stream",
          "name": "stdout",
          "text": [
            "Epoch 0/1000 | Generator loss: 62.211 | Critic loss: -131.777\n",
            "(fake: -262.063, real: 34.014, penalty: 96.271)\n",
            "Epoch 10/1000 | Generator loss: 2108.767 | Critic loss: -153.933\n",
            "(fake: -2130.307, real: 1882.094, penalty: 94.279)\n",
            "Epoch 20/1000 | Generator loss: 1224.242 | Critic loss: -23.693\n",
            "(fake: -1154.856, real: 1124.040, penalty: 7.122)\n",
            "Epoch 30/1000 | Generator loss: 807.401 | Critic loss: -15.342\n",
            "(fake: -591.403, real: 572.104, penalty: 3.957)\n",
            "Epoch 40/1000 | Generator loss: 766.247 | Critic loss: -15.278\n",
            "(fake: -1078.971, real: 1059.687, penalty: 4.006)\n",
            "Epoch 50/1000 | Generator loss: 755.516 | Critic loss: -7.077\n",
            "(fake: -448.050, real: 437.589, penalty: 3.383)\n",
            "Epoch 60/1000 | Generator loss: -471.048 | Critic loss: -8.487\n",
            "(fake: 220.095, real: -230.197, penalty: 1.616)\n",
            "Epoch 70/1000 | Generator loss: -517.075 | Critic loss: -4.850\n",
            "(fake: 422.215, real: -428.659, penalty: 1.593)\n",
            "Epoch 80/1000 | Generator loss: 502.876 | Critic loss: -5.974\n",
            "(fake: -691.667, real: 684.230, penalty: 1.464)\n",
            "Epoch 90/1000 | Generator loss: -83.465 | Critic loss: -12.161\n",
            "(fake: -49.828, real: 34.166, penalty: 3.501)\n",
            "Epoch 100/1000 | Generator loss: -23.576 | Critic loss: -18.338\n",
            "(fake: 45.383, real: -69.287, penalty: 5.566)\n",
            "Epoch 110/1000 | Generator loss: -20.876 | Critic loss: -19.920\n",
            "(fake: 46.132, real: -72.221, penalty: 6.169)\n",
            "Epoch 120/1000 | Generator loss: -34.401 | Critic loss: -21.201\n",
            "(fake: 28.270, real: -56.030, penalty: 6.559)\n",
            "Epoch 130/1000 | Generator loss: -20.294 | Critic loss: -19.594\n",
            "(fake: 30.175, real: -55.578, penalty: 5.809)\n",
            "Epoch 140/1000 | Generator loss: -28.121 | Critic loss: -18.717\n",
            "(fake: 42.361, real: -66.531, penalty: 5.453)\n",
            "Epoch 150/1000 | Generator loss: -34.587 | Critic loss: -17.734\n",
            "(fake: 38.646, real: -61.317, penalty: 4.937)\n",
            "Epoch 160/1000 | Generator loss: -32.638 | Critic loss: -15.655\n",
            "(fake: 28.241, real: -47.962, penalty: 4.066)\n",
            "Epoch 170/1000 | Generator loss: -27.779 | Critic loss: -14.095\n",
            "(fake: 31.076, real: -48.725, penalty: 3.554)\n",
            "Epoch 180/1000 | Generator loss: -22.468 | Critic loss: -13.465\n",
            "(fake: 29.810, real: -46.738, penalty: 3.462)\n",
            "Epoch 190/1000 | Generator loss: -30.286 | Critic loss: -12.344\n",
            "(fake: 36.525, real: -51.715, penalty: 2.847)\n",
            "Epoch 200/1000 | Generator loss: -32.197 | Critic loss: -11.525\n",
            "(fake: 30.971, real: -45.212, penalty: 2.716)\n",
            "Epoch 210/1000 | Generator loss: -24.521 | Critic loss: -11.428\n",
            "(fake: 23.718, real: -37.654, penalty: 2.508)\n",
            "Epoch 220/1000 | Generator loss: -20.628 | Critic loss: -10.744\n",
            "(fake: 17.641, real: -30.682, penalty: 2.297)\n",
            "Epoch 230/1000 | Generator loss: -28.492 | Critic loss: -10.446\n",
            "(fake: 24.999, real: -37.588, penalty: 2.142)\n"
          ]
        }
      ]
    },
    {
      "cell_type": "code",
      "source": [
        "losses = trainer.data.copy()\n",
        "\n",
        "import pandas as pd\n",
        "\n",
        "df = pd.DataFrame.from_dict(losses)\n",
        "#df.to_csv('results.csv', index=False)"
      ],
      "metadata": {
        "id": "vpHcRhcAhRkW"
      },
      "execution_count": null,
      "outputs": []
    },
    {
      "cell_type": "code",
      "source": [
        "plt.figure(figsize=(12, 8))\n",
        "plt.plot(losses['gloss'][:500], 'orange', label='generator')\n",
        "plt.plot(losses['cfloss'][:500], 'r', label='critic fake')\n",
        "plt.plot(losses['crloss'][:500], 'g', label='critic real')\n",
        "plt.plot(losses['cploss'][:500], 'b', label='critic penalty')\n",
        "plt.plot(losses['closs'][:500], 'm', label='critic')\n",
        "plt.xlabel('epoch', fontsize=12)\n",
        "plt.ylabel('loss', fontsize=12)\n",
        "plt.grid()\n",
        "plt.legend()\n",
        "plt.show()\n",
        "#plt.savefig('losses.png')"
      ],
      "metadata": {
        "id": "JnmHPNK8hXeo"
      },
      "execution_count": null,
      "outputs": []
    },
    {
      "cell_type": "code",
      "source": [
        "\n",
        "generator = generator.eval().cpu()\n",
        "#generator = torch.load('generator_e1000.pt')"
      ],
      "metadata": {
        "id": "I5yT21EyhYEE"
      },
      "execution_count": null,
      "outputs": []
    },
    {
      "cell_type": "markdown",
      "source": [
        "## Inference模块"
      ],
      "metadata": {
        "id": "F76EpTgPheYL"
      }
    },
    {
      "cell_type": "code",
      "source": [
        "\n",
        "generator = generator.eval().cpu()\n",
        "#generator = torch.load('generator_e1000.pt')"
      ],
      "metadata": {
        "id": "0o6FjjiohZvo"
      },
      "execution_count": null,
      "outputs": []
    },
    {
      "cell_type": "code",
      "source": [
        "\n",
        "chords = torch.rand(1, 32)\n",
        "style = torch.rand(1, 32)\n",
        "melody = torch.rand(1, 4, 32)\n",
        "groove = torch.rand(1, 4, 32)\n",
        "\n",
        "preds = generator(chords, style, melody, groove).detach()\n"
      ],
      "metadata": {
        "id": "fB5RI28ghkBG"
      },
      "execution_count": null,
      "outputs": []
    },
    {
      "cell_type": "code",
      "source": [
        "from data.utils import postprocess\n",
        "preds = preds.numpy()\n",
        "music_data = postprocess(preds)\n"
      ],
      "metadata": {
        "id": "8GDv7IbhhlsI"
      },
      "execution_count": null,
      "outputs": []
    },
    {
      "cell_type": "code",
      "source": [
        "filename = '1.midi'\n",
        "music_data.write('midi', fp=filename)\n",
        "!pwd"
      ],
      "metadata": {
        "id": "Lct5PGJThmhl"
      },
      "execution_count": null,
      "outputs": []
    },
    {
      "cell_type": "code",
      "source": [],
      "metadata": {
        "id": "o4FR0g9ZoJon"
      },
      "execution_count": null,
      "outputs": []
    }
  ],
  "metadata": {
    "colab": {
      "provenance": [],
      "gpuType": "T4",
      "include_colab_link": true
    },
    "kernelspec": {
      "display_name": "Python 3",
      "name": "python3"
    },
    "accelerator": "GPU",
    "widgets": {
      "application/vnd.jupyter.widget-state+json": {
        "4b3ea539047746c4896f836d55b8639f": {
          "model_module": "@jupyter-widgets/controls",
          "model_name": "HBoxModel",
          "model_module_version": "1.5.0",
          "state": {
            "_dom_classes": [],
            "_model_module": "@jupyter-widgets/controls",
            "_model_module_version": "1.5.0",
            "_model_name": "HBoxModel",
            "_view_count": null,
            "_view_module": "@jupyter-widgets/controls",
            "_view_module_version": "1.5.0",
            "_view_name": "HBoxView",
            "box_style": "",
            "children": [
              "IPY_MODEL_fb2094b9fcf74d7187f6e6f7df360fe4",
              "IPY_MODEL_cc94f3387ca440fdb31fc9f71f83b085",
              "IPY_MODEL_152fe794743a47e79321b788e81b4ff2"
            ],
            "layout": "IPY_MODEL_911e1904819c4b6ebf4216a1f827c97f"
          }
        },
        "fb2094b9fcf74d7187f6e6f7df360fe4": {
          "model_module": "@jupyter-widgets/controls",
          "model_name": "HTMLModel",
          "model_module_version": "1.5.0",
          "state": {
            "_dom_classes": [],
            "_model_module": "@jupyter-widgets/controls",
            "_model_module_version": "1.5.0",
            "_model_name": "HTMLModel",
            "_view_count": null,
            "_view_module": "@jupyter-widgets/controls",
            "_view_module_version": "1.5.0",
            "_view_name": "HTMLView",
            "description": "",
            "description_tooltip": null,
            "layout": "IPY_MODEL_818402ed3af548ac885d3fb153e44bf2",
            "placeholder": "​",
            "style": "IPY_MODEL_a498e6454b24469b8a6a48a6c8859051",
            "value": " 24%"
          }
        },
        "cc94f3387ca440fdb31fc9f71f83b085": {
          "model_module": "@jupyter-widgets/controls",
          "model_name": "FloatProgressModel",
          "model_module_version": "1.5.0",
          "state": {
            "_dom_classes": [],
            "_model_module": "@jupyter-widgets/controls",
            "_model_module_version": "1.5.0",
            "_model_name": "FloatProgressModel",
            "_view_count": null,
            "_view_module": "@jupyter-widgets/controls",
            "_view_module_version": "1.5.0",
            "_view_name": "ProgressView",
            "bar_style": "",
            "description": "",
            "description_tooltip": null,
            "layout": "IPY_MODEL_cca445ba02e747a4895b077aab5d32b5",
            "max": 1000,
            "min": 0,
            "orientation": "horizontal",
            "style": "IPY_MODEL_917b52ac47f4442786612de9d7a5f8b5",
            "value": 239
          }
        },
        "152fe794743a47e79321b788e81b4ff2": {
          "model_module": "@jupyter-widgets/controls",
          "model_name": "HTMLModel",
          "model_module_version": "1.5.0",
          "state": {
            "_dom_classes": [],
            "_model_module": "@jupyter-widgets/controls",
            "_model_module_version": "1.5.0",
            "_model_name": "HTMLModel",
            "_view_count": null,
            "_view_module": "@jupyter-widgets/controls",
            "_view_module_version": "1.5.0",
            "_view_name": "HTMLView",
            "description": "",
            "description_tooltip": null,
            "layout": "IPY_MODEL_9641a071ca134534942e7a0792ccba8f",
            "placeholder": "​",
            "style": "IPY_MODEL_9b8a35d4a88d400daced13dd3abc6ef1",
            "value": " 239/1000 [08:08&lt;25:25,  2.00s/it]"
          }
        },
        "911e1904819c4b6ebf4216a1f827c97f": {
          "model_module": "@jupyter-widgets/base",
          "model_name": "LayoutModel",
          "model_module_version": "1.2.0",
          "state": {
            "_model_module": "@jupyter-widgets/base",
            "_model_module_version": "1.2.0",
            "_model_name": "LayoutModel",
            "_view_count": null,
            "_view_module": "@jupyter-widgets/base",
            "_view_module_version": "1.2.0",
            "_view_name": "LayoutView",
            "align_content": null,
            "align_items": null,
            "align_self": null,
            "border": null,
            "bottom": null,
            "display": null,
            "flex": null,
            "flex_flow": null,
            "grid_area": null,
            "grid_auto_columns": null,
            "grid_auto_flow": null,
            "grid_auto_rows": null,
            "grid_column": null,
            "grid_gap": null,
            "grid_row": null,
            "grid_template_areas": null,
            "grid_template_columns": null,
            "grid_template_rows": null,
            "height": null,
            "justify_content": null,
            "justify_items": null,
            "left": null,
            "margin": null,
            "max_height": null,
            "max_width": null,
            "min_height": null,
            "min_width": null,
            "object_fit": null,
            "object_position": null,
            "order": null,
            "overflow": null,
            "overflow_x": null,
            "overflow_y": null,
            "padding": null,
            "right": null,
            "top": null,
            "visibility": null,
            "width": null
          }
        },
        "818402ed3af548ac885d3fb153e44bf2": {
          "model_module": "@jupyter-widgets/base",
          "model_name": "LayoutModel",
          "model_module_version": "1.2.0",
          "state": {
            "_model_module": "@jupyter-widgets/base",
            "_model_module_version": "1.2.0",
            "_model_name": "LayoutModel",
            "_view_count": null,
            "_view_module": "@jupyter-widgets/base",
            "_view_module_version": "1.2.0",
            "_view_name": "LayoutView",
            "align_content": null,
            "align_items": null,
            "align_self": null,
            "border": null,
            "bottom": null,
            "display": null,
            "flex": null,
            "flex_flow": null,
            "grid_area": null,
            "grid_auto_columns": null,
            "grid_auto_flow": null,
            "grid_auto_rows": null,
            "grid_column": null,
            "grid_gap": null,
            "grid_row": null,
            "grid_template_areas": null,
            "grid_template_columns": null,
            "grid_template_rows": null,
            "height": null,
            "justify_content": null,
            "justify_items": null,
            "left": null,
            "margin": null,
            "max_height": null,
            "max_width": null,
            "min_height": null,
            "min_width": null,
            "object_fit": null,
            "object_position": null,
            "order": null,
            "overflow": null,
            "overflow_x": null,
            "overflow_y": null,
            "padding": null,
            "right": null,
            "top": null,
            "visibility": null,
            "width": null
          }
        },
        "a498e6454b24469b8a6a48a6c8859051": {
          "model_module": "@jupyter-widgets/controls",
          "model_name": "DescriptionStyleModel",
          "model_module_version": "1.5.0",
          "state": {
            "_model_module": "@jupyter-widgets/controls",
            "_model_module_version": "1.5.0",
            "_model_name": "DescriptionStyleModel",
            "_view_count": null,
            "_view_module": "@jupyter-widgets/base",
            "_view_module_version": "1.2.0",
            "_view_name": "StyleView",
            "description_width": ""
          }
        },
        "cca445ba02e747a4895b077aab5d32b5": {
          "model_module": "@jupyter-widgets/base",
          "model_name": "LayoutModel",
          "model_module_version": "1.2.0",
          "state": {
            "_model_module": "@jupyter-widgets/base",
            "_model_module_version": "1.2.0",
            "_model_name": "LayoutModel",
            "_view_count": null,
            "_view_module": "@jupyter-widgets/base",
            "_view_module_version": "1.2.0",
            "_view_name": "LayoutView",
            "align_content": null,
            "align_items": null,
            "align_self": null,
            "border": null,
            "bottom": null,
            "display": null,
            "flex": null,
            "flex_flow": null,
            "grid_area": null,
            "grid_auto_columns": null,
            "grid_auto_flow": null,
            "grid_auto_rows": null,
            "grid_column": null,
            "grid_gap": null,
            "grid_row": null,
            "grid_template_areas": null,
            "grid_template_columns": null,
            "grid_template_rows": null,
            "height": null,
            "justify_content": null,
            "justify_items": null,
            "left": null,
            "margin": null,
            "max_height": null,
            "max_width": null,
            "min_height": null,
            "min_width": null,
            "object_fit": null,
            "object_position": null,
            "order": null,
            "overflow": null,
            "overflow_x": null,
            "overflow_y": null,
            "padding": null,
            "right": null,
            "top": null,
            "visibility": null,
            "width": null
          }
        },
        "917b52ac47f4442786612de9d7a5f8b5": {
          "model_module": "@jupyter-widgets/controls",
          "model_name": "ProgressStyleModel",
          "model_module_version": "1.5.0",
          "state": {
            "_model_module": "@jupyter-widgets/controls",
            "_model_module_version": "1.5.0",
            "_model_name": "ProgressStyleModel",
            "_view_count": null,
            "_view_module": "@jupyter-widgets/base",
            "_view_module_version": "1.2.0",
            "_view_name": "StyleView",
            "bar_color": null,
            "description_width": ""
          }
        },
        "9641a071ca134534942e7a0792ccba8f": {
          "model_module": "@jupyter-widgets/base",
          "model_name": "LayoutModel",
          "model_module_version": "1.2.0",
          "state": {
            "_model_module": "@jupyter-widgets/base",
            "_model_module_version": "1.2.0",
            "_model_name": "LayoutModel",
            "_view_count": null,
            "_view_module": "@jupyter-widgets/base",
            "_view_module_version": "1.2.0",
            "_view_name": "LayoutView",
            "align_content": null,
            "align_items": null,
            "align_self": null,
            "border": null,
            "bottom": null,
            "display": null,
            "flex": null,
            "flex_flow": null,
            "grid_area": null,
            "grid_auto_columns": null,
            "grid_auto_flow": null,
            "grid_auto_rows": null,
            "grid_column": null,
            "grid_gap": null,
            "grid_row": null,
            "grid_template_areas": null,
            "grid_template_columns": null,
            "grid_template_rows": null,
            "height": null,
            "justify_content": null,
            "justify_items": null,
            "left": null,
            "margin": null,
            "max_height": null,
            "max_width": null,
            "min_height": null,
            "min_width": null,
            "object_fit": null,
            "object_position": null,
            "order": null,
            "overflow": null,
            "overflow_x": null,
            "overflow_y": null,
            "padding": null,
            "right": null,
            "top": null,
            "visibility": null,
            "width": null
          }
        },
        "9b8a35d4a88d400daced13dd3abc6ef1": {
          "model_module": "@jupyter-widgets/controls",
          "model_name": "DescriptionStyleModel",
          "model_module_version": "1.5.0",
          "state": {
            "_model_module": "@jupyter-widgets/controls",
            "_model_module_version": "1.5.0",
            "_model_name": "DescriptionStyleModel",
            "_view_count": null,
            "_view_module": "@jupyter-widgets/base",
            "_view_module_version": "1.2.0",
            "_view_name": "StyleView",
            "description_width": ""
          }
        }
      }
    }
  },
  "nbformat": 4,
  "nbformat_minor": 0
}